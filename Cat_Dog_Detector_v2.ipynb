{
  "nbformat": 4,
  "nbformat_minor": 0,
  "metadata": {
    "colab": {
      "name": "Cat_Dog_Detector_v2.ipynb",
      "provenance": [],
      "collapsed_sections": [],
      "mount_file_id": "1RZvRuFtRcwC0ibaPv37arSX16ZnqYu7r",
      "authorship_tag": "ABX9TyP8tZXjXsk0B0a+7rsEeilX",
      "include_colab_link": true
    },
    "kernelspec": {
      "name": "python3",
      "display_name": "Python 3"
    }
  },
  "cells": [
    {
      "cell_type": "markdown",
      "metadata": {
        "id": "view-in-github",
        "colab_type": "text"
      },
      "source": [
        "<a href=\"https://colab.research.google.com/github/RitwickJoshi/Colaboratory/blob/master/Cat_Dog_Detector_v2.ipynb\" target=\"_parent\"><img src=\"https://colab.research.google.com/assets/colab-badge.svg\" alt=\"Open In Colab\"/></a>"
      ]
    },
    {
      "cell_type": "code",
      "metadata": {
        "colab": {
          "base_uri": "https://localhost:8080/",
          "height": 69
        },
        "id": "gT10AZbcTXzE",
        "outputId": "f18500ee-b76e-4d13-f793-bf5be75f1ef0"
      },
      "source": [
        "\"\"\"\r\n",
        "Date: 25-12-2020\r\n",
        "filename: Cats_Dogs_Detector_v2.ipynb\r\n",
        "@author: Ritwick Joshi\r\n",
        "program name: Cat and Dog Classification\r\n",
        "program description: objective of the program is to come up with accuracy of cat-dog-detection-model based on CNN classification\r\n",
        "\"\"\""
      ],
      "execution_count": 3,
      "outputs": [
        {
          "output_type": "execute_result",
          "data": {
            "application/vnd.google.colaboratory.intrinsic+json": {
              "type": "string"
            },
            "text/plain": [
              "'\\nDate: 25-12-2020\\nfilename: Cats_Dogs_Detector_v1.ipynb\\n@author: Ritwick Joshi\\nprogram name: Cat and Dog Classification\\nprogram description: objective of the program is to come up with accuracy of cat-dog-detection-model based on CNN classification\\n'"
            ]
          },
          "metadata": {
            "tags": []
          },
          "execution_count": 3
        }
      ]
    },
    {
      "cell_type": "code",
      "metadata": {
        "colab": {
          "base_uri": "https://localhost:8080/"
        },
        "id": "XOo17PEFTpHP",
        "outputId": "6af4ad9a-3163-4194-8d49-726986a869ca"
      },
      "source": [
        "#importing needed modules (if not fulfilled more are imported later)\r\n",
        "import tensorflow as tf\r\n",
        "from keras.preprocessing.image import ImageDataGenerator\r\n",
        "import matplotlib.pyplot as plt\r\n",
        "import os\r\n",
        "import cv2\r\n",
        "from keras.models import Sequential\r\n",
        "from keras.layers import Conv2D, MaxPooling2D, Dense, Flatten, Dropout\r\n",
        "\r\n",
        "#directory where the dataset is located\r\n",
        "main_directory = r'/content/drive/MyDrive/Colab_Notebooks/Dataset'\r\n",
        "train_directory = os.path.join(main_directory, 'training')\r\n",
        "test_directory = os.path.join(main_directory, 'test')\r\n",
        "\r\n",
        "#creating a iterator with specified set of rules that is to be performed on the image\r\n",
        "#this is done so as to augment the data\r\n",
        "training_generator = ImageDataGenerator(\r\n",
        "    width_shift_range=0.15, \r\n",
        "    height_shift_range=0.15,\r\n",
        "    rescale = 1./255,\r\n",
        "    horizontal_flip = True,\r\n",
        "    shear_range = 0.10,\r\n",
        "    rotation_range=20,\r\n",
        ")\r\n",
        "\r\n",
        "testing_generator = ImageDataGenerator(\r\n",
        "    rescale = 1./255\r\n",
        ")\r\n",
        "\r\n",
        "#created a variable with 20 batches of data for a little ease of computation\r\n",
        "trainer = training_generator.flow_from_directory(\r\n",
        "    train_directory, \r\n",
        "    batch_size = 20,\r\n",
        "    target_size = (200, 200), \r\n",
        "    class_mode = 'binary',\r\n",
        ")\r\n",
        "tester = testing_generator.flow_from_directory(\r\n",
        "    test_directory,\r\n",
        "    batch_size = 20,\r\n",
        "    target_size = (200, 200),\r\n",
        "    class_mode = 'binary',\r\n",
        ")\r\n",
        "\r\n"
      ],
      "execution_count": 6,
      "outputs": [
        {
          "output_type": "stream",
          "text": [
            "Found 2000 images belonging to 2 classes.\n",
            "Found 1000 images belonging to 2 classes.\n"
          ],
          "name": "stdout"
        }
      ]
    },
    {
      "cell_type": "code",
      "metadata": {
        "id": "ucivxUxCT8zp"
      },
      "source": [
        "#model selection and addition of convolutions\r\n",
        "model = Sequential()\r\n",
        "\r\n",
        "model.add(Conv2D(32, (3,3), kernel_initializer='he_normal', activation='relu', input_shape=(200,200,3)))\r\n",
        "model.add(MaxPooling2D(2,2))\r\n",
        "\r\n",
        "model.add(Conv2D(64, (3,3), activation='relu'))\r\n",
        "model.add(MaxPooling2D(2,2))\r\n",
        "\r\n",
        "model.add(Conv2D(64, (3,3), activation='relu'))\r\n",
        "model.add(MaxPooling2D(2,2))\r\n",
        "\r\n",
        "model.add(Conv2D(128, (3,3), activation='relu'))\r\n",
        "model.add(MaxPooling2D(2,2))\r\n",
        "\r\n",
        "model.add(Conv2D(128, (3,3), activation='relu'))\r\n",
        "model.add(MaxPooling2D(2,2))\r\n",
        "\r\n",
        "\r\n",
        "model.add(Flatten())\r\n",
        "\r\n",
        "model.add(Dense( \r\n",
        "    128, \r\n",
        "    activation='relu', \r\n",
        "    input_shape = (200,200,3),\r\n",
        "    kernel_initializer='he_normal'\r\n",
        "))\r\n",
        "\r\n",
        "model.add(Dropout(.5))\r\n",
        "\r\n",
        "model.add(Dense(\r\n",
        "    1,\r\n",
        "    activation='sigmoid'\r\n",
        "))"
      ],
      "execution_count": 12,
      "outputs": []
    },
    {
      "cell_type": "code",
      "metadata": {
        "id": "zGSoqU70UUlg"
      },
      "source": [
        "#compilation and learning rate setting of the model\r\n",
        "from keras.optimizers import RMSprop\r\n",
        "opti = RMSprop(lr = 1e-3)\r\n",
        "model.compile(\r\n",
        "    optimizer = opti,\r\n",
        "    loss = 'binary_crossentropy',\r\n",
        "    metrics = ['accuracy']\r\n",
        ")"
      ],
      "execution_count": 13,
      "outputs": []
    },
    {
      "cell_type": "code",
      "metadata": {
        "colab": {
          "base_uri": "https://localhost:8080/"
        },
        "id": "uiWBgjNbUZzY",
        "outputId": "53a5eb7d-f02b-4396-eda0-d9eabb99c73b"
      },
      "source": [
        "#training the model based on the given neurons and epochs\r\n",
        "result = model.fit_generator(\r\n",
        "    trainer,\r\n",
        "    epochs = 400,\r\n",
        "    validation_data = tester,\r\n",
        "    steps_per_epoch = 100,\r\n",
        "    validation_steps = 50\r\n",
        ")"
      ],
      "execution_count": null,
      "outputs": [
        {
          "output_type": "stream",
          "text": [
            "/usr/local/lib/python3.6/dist-packages/tensorflow/python/keras/engine/training.py:1844: UserWarning: `Model.fit_generator` is deprecated and will be removed in a future version. Please use `Model.fit`, which supports generators.\n",
            "  warnings.warn('`Model.fit_generator` is deprecated and '\n"
          ],
          "name": "stderr"
        },
        {
          "output_type": "stream",
          "text": [
            "Epoch 1/400\n",
            "100/100 [==============================] - 634s 6s/step - loss: 0.7989 - accuracy: 0.5251 - val_loss: 0.6919 - val_accuracy: 0.5000\n",
            "Epoch 2/400\n",
            "100/100 [==============================] - 166s 2s/step - loss: 0.6962 - accuracy: 0.4937 - val_loss: 0.6781 - val_accuracy: 0.6490\n",
            "Epoch 3/400\n",
            "100/100 [==============================] - 166s 2s/step - loss: 0.6807 - accuracy: 0.5889 - val_loss: 0.7502 - val_accuracy: 0.6040\n",
            "Epoch 4/400\n",
            " 82/100 [=======================>......] - ETA: 26s - loss: 0.6492 - accuracy: 0.6257"
          ],
          "name": "stdout"
        }
      ]
    },
    {
      "cell_type": "code",
      "metadata": {
        "id": "lzKSFwCGUpGQ"
      },
      "source": [
        "#accuracy and loss variables\r\n",
        "acc = result.history['accuracy']\r\n",
        "vacc = result.history['val_accuracy']\r\n",
        "repeated_for = range(1,len(acc)+1)\r\n",
        "\r\n",
        "loss = result.history['loss']\r\n",
        "vloss = result.history['val_loss']\r\n",
        "model.summary()"
      ],
      "execution_count": null,
      "outputs": []
    },
    {
      "cell_type": "code",
      "metadata": {
        "id": "m0go-C2IUzXB"
      },
      "source": [
        "#plotting the graph of training and validation accuracy\r\n",
        "\r\n",
        "plt.plot(repeated_for, acc, 'go', label = 'Training ACC')\r\n",
        "plt.plot(repeated_for, vacc, 'b', label = 'Validation ACC')\r\n",
        "plt.title('Training and Validation Accuracy')\r\n",
        "plt.legend()\r\n"
      ],
      "execution_count": null,
      "outputs": []
    },
    {
      "cell_type": "code",
      "metadata": {
        "id": "ZuZBwqm9U6tZ"
      },
      "source": [
        "#plotting the graph of training and validation loss\r\n",
        "\r\n",
        "plt.plot(repeated_for, loss, 'go', label = 'Training LOSS')\r\n",
        "plt.plot(repeated_for, vloss, 'b', label = 'Validation LOSS')\r\n",
        "plt.title('Training and Validation Loss')\r\n",
        "plt.legend()\r\n",
        "\r\n"
      ],
      "execution_count": null,
      "outputs": []
    },
    {
      "cell_type": "code",
      "metadata": {
        "id": "oOwMrS9Nai8p"
      },
      "source": [
        "#saving the model\r\n",
        "model.save(r'/content/drive/MyDrive/Colab_Notebooks/Dataset/test_model_400_epochs_4.h5')\r\n"
      ],
      "execution_count": null,
      "outputs": []
    },
    {
      "cell_type": "code",
      "metadata": {
        "id": "gKxOuIKjasFb"
      },
      "source": [
        "#printing the accuracy of the model\r\n",
        "#load the model in the google drive or change the path\r\n",
        "\r\n",
        "from keras.models import load_model\r\n",
        "\r\n",
        "md = load_model(r'/content/drive/MyDrive/Colab_Notebooks/Dataset/test_model_400_epochs_4.h5')\r\n",
        "\r\n",
        "_,accuracy_model = md.evaluate_generator(tester, steps=len(tester), verbose=0)\r\n",
        "print(f'{accuracy_model}')"
      ],
      "execution_count": null,
      "outputs": []
    },
    {
      "cell_type": "code",
      "metadata": {
        "id": "BkhMy8icYa65"
      },
      "source": [
        "from keras.preprocessing import image\r\n",
        "import numpy as np\r\n",
        "\r\n",
        "img_path = (r'/content/drive/MyDrive/Colab_Notebooks/Dataset/training/cats/cat.999.jpg')\r\n",
        "img = image.load_img(img_path, target_size=(200,200))\r\n",
        "plt.imshow(img)\r\n",
        "img = np.expand_dims(img, axis=0)\r\n",
        "result=md.predict_classes(img)\r\n",
        "plt.title((result[0][0]))\r\n",
        "plt.show()"
      ],
      "execution_count": null,
      "outputs": []
    }
  ]
}